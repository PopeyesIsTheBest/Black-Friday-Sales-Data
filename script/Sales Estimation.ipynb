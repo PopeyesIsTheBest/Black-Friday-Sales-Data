{
  "nbformat": 4,
  "nbformat_minor": 0,
  "metadata": {
    "colab": {
      "name": "Jiajie Gu+Jialin Zhao_final project.ipynb",
      "provenance": [],
      "collapsed_sections": []
    },
    "kernelspec": {
      "display_name": "Python 3",
      "name": "python3"
    }
  },
  "cells": [
    {
      "source": [
        "**load required packages**"
      ],
      "cell_type": "markdown",
      "metadata": {}
    },
    {
      "cell_type": "code",
      "metadata": {
        "id": "JvTWDpPLUpQ7"
      },
      "source": [
        "import pandas as pd\n",
        "import matplotlib.pyplot as plt\n",
        "import numpy as np\n",
        "import seaborn as sns\n",
        "\n"
      ],
      "execution_count": null,
      "outputs": []
    },
    {
      "cell_type": "code",
      "metadata": {
        "id": "h-jpJ8yZI0OK"
      },
      "source": [
        "# Load Black_Friday data set\n",
        "dataframe = pd.read_csv(\"Black_Friday.csv\")"
      ],
      "execution_count": null,
      "outputs": []
    },
    {
      "cell_type": "markdown",
      "metadata": {
        "id": "aKm16ewf_pvj"
      },
      "source": [
        "# **Step 1. Data Cleaning**"
      ]
    },
    {
      "cell_type": "markdown",
      "metadata": {
        "id": "B-YRFzEbDUaK"
      },
      "source": [
        "***User_ID***:     convert into string\n",
        "\n",
        "***Product_ID***:   convert into string\n",
        "\n",
        "***Gender***:     convert into M=1 F=0,then convert into string (one_hot encode)\n",
        "\n",
        "***Age:***         convert into 7 age groups (1-7)\n",
        "\n",
        "***Occupation:***    convert into string (one_hot encode)\n",
        "\n",
        "***City_Category:***        convert into A=1,B=2,C=3, then convert into string(one_hot encode)\n",
        "\n",
        "***Stay_in_current_city_year:***     5 groups\n",
        "\n",
        "***Marital_Status:***      convert into string (one_hot encode)\n",
        "\n",
        "***Product_Category_1:***  convert into string (one_hot encode)\n",
        "\n",
        "***Purchase:***        check data type should be numeric"
      ]
    },
    {
      "cell_type": "markdown",
      "metadata": {
        "id": "s76Z0B8a_sTg"
      },
      "source": [
        "## Self-defined functions\n",
        "\n",
        "**convert string type ordinal variable(eg: age, stay_in_current_city_years) into numeric data type**"
      ]
    },
    {
      "cell_type": "code",
      "metadata": {
        "id": "nTxMRrYk_tFb"
      },
      "source": [
        "# here, we try to get the number of lower range to represent different age group\n",
        "def get_left(str):\n",
        "  result = ''                           #set an empty string\n",
        "  for i in range(0, len(str),1):\n",
        "    if str[i] >='0'and str[i]<='9':     #whether i is num\n",
        "      result += str[i]                  #if not, add it\n",
        "    else:\n",
        "      break\n",
        "  return result"
      ],
      "execution_count": null,
      "outputs": []
    },
    {
      "cell_type": "code",
      "metadata": {
        "id": "gI4-ZGssh4yv"
      },
      "source": [
        "'''\n",
        "we try to convert 'age' and 'Stay_In_Current_City_Years' into numeric data type \n",
        "'''\n",
        "\n",
        "def str_2_int(data):\n",
        "  data['Age'] = data['Age'].map(get_left)         #get the lower range to represent an age group, eg: 4+ to 4\n",
        "  data['Age'] = data['Age'].astype('int64')       #change string into number\n",
        "  data['Stay_In_Current_City_Years'] = data['Stay_In_Current_City_Years'].map(get_left)  #get the lower range to represent an age group\n",
        "  data['Stay_In_Current_City_Years'] = data['Stay_In_Current_City_Years'].astype('int64')   #convert string into number\n",
        "  return data"
      ],
      "execution_count": null,
      "outputs": []
    },
    {
      "cell_type": "markdown",
      "metadata": {
        "id": "xkK2UI4cCV3k"
      },
      "source": [
        "\n",
        "\n",
        "**convert numeric type nominal variable (eg: ID) into string data type**"
      ]
    },
    {
      "cell_type": "code",
      "metadata": {
        "id": "5H2vWVZemABy"
      },
      "source": [
        "'''\n",
        "Here, we try to convert numeric type nominal variable into string data type\n",
        "'Product_Category_1','Product_Category_2','Marital_Status','Occupation','User_ID','Product_ID','Gender','City_Category' are the \n",
        "categories that we will convert\n",
        "string: are explicitly treated as strings\n",
        "'''\n",
        "\n",
        "\n",
        "def int_2_str(data):\n",
        "  data['Product_Category_1']=data['Product_Category_1'].astype('string')      #convert Product_Category_1 and Product_Category_2 into string\n",
        "  data['Product_Category_2']=data['Product_Category_2'].astype('string')\n",
        "  data['Marital_Status']=data['Marital_Status'].astype('string')\n",
        "  data['Occupation']=data['Occupation'].astype('string')\n",
        "  data['User_ID']=data['User_ID'].astype('string')\n",
        "  data['Product_ID']=data['Product_ID'].astype('string')     # add product ID\n",
        "  data['Gender']=data['Gender'].map({\"M\":'1',\"F\":'0'})\n",
        "  data['Gender']=data['Gender'].astype('string')    # convert Gender to string\n",
        "  data['City_Category']=data['City_Category'].map(lambda x:ord(x)-ord('A')+1) #use ascii to convert\n",
        "  data['City_Category'] = data['City_Category'].astype('string')   # convert city category to string\n",
        "  return data"
      ],
      "execution_count": null,
      "outputs": []
    },
    {
      "cell_type": "markdown",
      "metadata": {
        "id": "Udbua9_OCmSP"
      },
      "source": [
        "\n",
        "\n",
        "**Handle missing values**"
      ]
    },
    {
      "cell_type": "code",
      "metadata": {
        "id": "gF7UxUK1t_Q9"
      },
      "source": [
        "'''\n",
        "we try to delete the column that contains too many NAN. Meanwhile, we will also delete some rows that contains NAN\n",
        "'''\n",
        "\n",
        "def filter_blank(data):\n",
        "  data = data.drop(\"Product_Category_3\", axis=1) #delete the entire column of product_category_3 since it contains too many NA\n",
        "  data = data.dropna(subset=['Product_Category_2']) #delete some rows that contains NA\n",
        "  return data"
      ],
      "execution_count": null,
      "outputs": []
    },
    {
      "cell_type": "code",
      "metadata": {
        "id": "xMwCsMUF-2RD"
      },
      "source": [
        "#combine all the function here\n",
        "def clean_data(data):\n",
        "  data=str_2_int(data)\n",
        "  data=int_2_str(data)\n",
        "  data=filter_blank(data)\n",
        "  return data"
      ],
      "execution_count": null,
      "outputs": []
    },
    {
      "cell_type": "code",
      "metadata": {
        "id": "5apZ9IAy_HiX",
        "colab": {
          "base_uri": "https://localhost:8080/"
        },
        "outputId": "132debd2-5283-41ca-a446-1950e35db666"
      },
      "source": [
        "#do the data cleaning here\n",
        "df = clean_data(dataframe)   \n",
        "print(df.head())\n",
        "print(df.info())"
      ],
      "execution_count": null,
      "outputs": [
        {
          "output_type": "stream",
          "text": [
            "   User_ID Product_ID Gender  ...  Product_Category_1 Product_Category_2 Purchase\n",
            "1  1000001  P00248942      0  ...                   1                6.0    15200\n",
            "3  1000001  P00085442      0  ...                  12               14.0     1057\n",
            "5  1000003  P00193542      1  ...                   1                2.0    15227\n",
            "6  1000004  P00184942      1  ...                   1                8.0    19215\n",
            "7  1000004  P00346142      1  ...                   1               15.0    15854\n",
            "\n",
            "[5 rows x 11 columns]\n",
            "<class 'pandas.core.frame.DataFrame'>\n",
            "Int64Index: 343246 entries, 1 to 497995\n",
            "Data columns (total 11 columns):\n",
            " #   Column                      Non-Null Count   Dtype \n",
            "---  ------                      --------------   ----- \n",
            " 0   User_ID                     343246 non-null  string\n",
            " 1   Product_ID                  343246 non-null  string\n",
            " 2   Gender                      343246 non-null  string\n",
            " 3   Age                         343246 non-null  int64 \n",
            " 4   Occupation                  343246 non-null  string\n",
            " 5   City_Category               343246 non-null  string\n",
            " 6   Stay_In_Current_City_Years  343246 non-null  int64 \n",
            " 7   Marital_Status              343246 non-null  string\n",
            " 8   Product_Category_1          343246 non-null  string\n",
            " 9   Product_Category_2          343246 non-null  string\n",
            " 10  Purchase                    343246 non-null  int64 \n",
            "dtypes: int64(3), string(8)\n",
            "memory usage: 31.4 MB\n",
            "None\n"
          ],
          "name": "stdout"
        }
      ]
    },
    {
      "cell_type": "markdown",
      "metadata": {
        "id": "Wi6UfDFFL_ED"
      },
      "source": [
        "# **Step 2. Exploratory Data Analysis**"
      ]
    },
    {
      "cell_type": "markdown",
      "metadata": {
        "id": "TTX8QJ5rMFEU"
      },
      "source": [
        "EDA plot:\n",
        "\n",
        "**Display number of customer for each gender**\n"
      ]
    },
    {
      "cell_type": "code",
      "metadata": {
        "id": "boxbed9B4Xc0",
        "colab": {
          "base_uri": "https://localhost:8080/",
          "height": 295
        },
        "outputId": "a27666c8-a776-4cc2-9640-7bb322ba09cc"
      },
      "source": [
        "# Bar chart for comparing number of customers in both gender groups\n",
        "\n",
        "label = ['Male','Female']\n",
        "\n",
        "df1 = df[['Gender', 'Purchase']]   #only focus on the column 'Gender' and 'Purchase'\n",
        "customer_count = df1['Gender'].value_counts() #count the number of customer for each gender\n",
        "customer_count.plot.bar(x='Gender', y='number of customers', rot=360, color=['green','orange'])\n",
        "plt.xticks([0,1],labels=label, rotation=360)\n",
        "plt.xlabel('Gender')\n",
        "plt.ylabel('number of customers')\n",
        "plt.title('The number of customers in both gender group')\n",
        "plt.show()\n",
        " "
      ],
      "execution_count": null,
      "outputs": [
        {
          "output_type": "display_data",
          "data": {
            "image/png": "[encoded data removed]",
            "text/plain": [
              "<Figure size 432x288 with 1 Axes>"
            ]
          },
          "metadata": {
            "tags": [],
            "needs_background": "light"
          }
        }
      ]
    },
    {
      "cell_type": "code",
      "metadata": {
        "colab": {
          "base_uri": "https://localhost:8080/",
          "height": 373
        },
        "id": "jV2Sb853e1nS",
        "outputId": "54641a12-748e-451a-87e9-465a8fff269b"
      },
      "source": [
        "# Pie chart for comparing number of customers in both gender groups\n",
        "\n",
        "label = ['Male','Female']\n",
        "customer_count.plot.pie(figsize=(6, 6), autopct='%1.1f%%', \n",
        "                        title='Total amount of customers for each gender', labels = label )\n",
        "plt.legend()\n",
        "plt.show() "
      ],
      "execution_count": null,
      "outputs": [
        {
          "output_type": "display_data",
          "data": {
            "image/png": "[encoded data removed]",
            "text/plain": [
              "<Figure size 432x432 with 1 Axes>"
            ]
          },
          "metadata": {
            "tags": []
          }
        }
      ]
    },
    {
      "cell_type": "markdown",
      "metadata": {
        "id": "qopouGpZHb7d"
      },
      "source": [
        "As shown in the bar chart and pie chart, the total number of male customer are much higher than the total number of female customers. More specifically, the number of male customers are approximately 3 times higher than females."
      ]
    },
    {
      "cell_type": "markdown",
      "metadata": {
        "id": "EkNGdEHzMIKM"
      },
      "source": [
        "**Display total amount of purchase for each gender group**"
      ]
    },
    {
      "cell_type": "code",
      "metadata": {
        "colab": {
          "base_uri": "https://localhost:8080/",
          "height": 290
        },
        "id": "YTz1NNHfeR4r",
        "outputId": "a14bddff-2d27-4b2e-be88-5bb29716095c"
      },
      "source": [
        "# Bar chart for comparing total amount of purchase for each gender groups\n",
        "\n",
        "label = ['Female','Male']\n",
        "purchase_sum = df1.groupby('Gender').sum()\n",
        "purchase_sum.plot.bar(rot=360)\n",
        "plt.xticks([0,1],labels=label)\n",
        "plt.show()"
      ],
      "execution_count": null,
      "outputs": [
        {
          "output_type": "display_data",
          "data": {
            "image/png": "[encoded data removed]",
            "text/plain": [
              "<Figure size 432x288 with 1 Axes>"
            ]
          },
          "metadata": {
            "tags": [],
            "needs_background": "light"
          }
        }
      ]
    },
    {
      "cell_type": "code",
      "metadata": {
        "colab": {
          "base_uri": "https://localhost:8080/",
          "height": 400
        },
        "id": "hyORdS_BLMPU",
        "outputId": "a739fe02-4a43-48be-8be0-7bac0c337d74"
      },
      "source": [
        "# Pie chart for comparing total amount of purchase for each gender groups\n",
        "\n",
        "label = ['Female','Male']\n",
        "purchase_sum = df1.groupby('Gender').sum()\n",
        "purchase_sum.plot.pie(figsize=(6, 6), autopct='%1.1f%%', \n",
        "                        title='Total amount of purchase for each gender group', \n",
        "                      labels = label, subplots = True )\n",
        "plt.legend()\n",
        "plt.show() "
      ],
      "execution_count": null,
      "outputs": [
        {
          "output_type": "display_data",
          "data": {
            "image/png": "[encoded data removed]",
            "text/plain": [
              "<Figure size 432x432 with 1 Axes>"
            ]
          },
          "metadata": {
            "tags": []
          }
        }
      ]
    },
    {
      "cell_type": "markdown",
      "metadata": {
        "id": "E2Zzh3W1M7bY"
      },
      "source": [
        "As shown in the bar chart and pie chart, the total amount of purchase for male customers are much higher than the total amount of purchase for female customers. More specifically, the total amount of purchase for male customers are approximately 3 times higher than females."
      ]
    },
    {
      "cell_type": "markdown",
      "metadata": {
        "id": "_pH01a_BNvuV"
      },
      "source": [
        "\n",
        "\n",
        "From the first two figures we could easily find out that this dataset is unbalanced with respect to gender, and the ratio of male customers to female customers is roughly 3.12 to 1. "
      ]
    },
    {
      "cell_type": "markdown",
      "metadata": {
        "id": "CFC3BhwMM3hy"
      },
      "source": [
        "\n",
        "\n",
        "**Display total amount of purchase for different cities**"
      ]
    },
    {
      "cell_type": "code",
      "metadata": {
        "id": "-DgHLSf3fUWL",
        "colab": {
          "base_uri": "https://localhost:8080/",
          "height": 295
        },
        "outputId": "71fccf96-d4ec-4b10-bd04-2e6f3901ff68"
      },
      "source": [
        "# Bar chart for comparing amount of purchase for different cities\n",
        "label = ['A','B','C']\n",
        "\n",
        "df2= df[['City_Category','Purchase']]   # Only focus on 'City_Category' and'Purchase' column\n",
        "city_purchase_sum=df2.groupby('City_Category').sum()  # Calculate the sum of purchase based on City_Category\n",
        "\n",
        "city_purchase_sum.plot.bar(title=\"Total amount of purchase for different cities\")  # Title of the bar chart\n",
        "my_y_ticks = np.arange(800000000, 1500000000, 100000000)\n",
        "plt.yticks(my_y_ticks)\n",
        "plt.xticks([0,1,2],labels=label, rotation=360)\n",
        "plt.xlabel('Different cities')\n",
        "plt.show()"
      ],
      "execution_count": null,
      "outputs": [
        {
          "output_type": "display_data",
          "data": {
            "image/png": "[encoded data removed]",
            "text/plain": [
              "<Figure size 432x288 with 1 Axes>"
            ]
          },
          "metadata": {
            "tags": [],
            "needs_background": "light"
          }
        }
      ]
    },
    {
      "cell_type": "code",
      "metadata": {
        "id": "5-evA1k_Pan-",
        "colab": {
          "base_uri": "https://localhost:8080/",
          "height": 400
        },
        "outputId": "3509aa2a-809f-47bb-9ef1-d63ea65e3637"
      },
      "source": [
        "# Pie chart for comparing total amount of purchase for different cities\n",
        "\n",
        "label = ['A','B','C']\n",
        "city_purchase_sum.plot.pie(figsize=(6, 6), autopct='%1.1f%%', \n",
        "                        title='Total amount of purchase for different cities', \n",
        "                      labels = label, subplots = True )\n",
        "plt.legend()\n",
        "plt.show() "
      ],
      "execution_count": null,
      "outputs": [
        {
          "output_type": "display_data",
          "data": {
            "image/png": "[encoded data removed]",
            "text/plain": [
              "<Figure size 432x432 with 1 Axes>"
            ]
          },
          "metadata": {
            "tags": []
          }
        }
      ]
    },
    {
      "cell_type": "markdown",
      "metadata": {
        "id": "TV2PmPqNQY6O"
      },
      "source": [
        "As shown in the bar chart and pie chart, the total amount of purchase for city B is much higher than city A and city B. More specifically, the total amount of purchase for city B is the highest, and city C has the second highest amount of purchase."
      ]
    },
    {
      "cell_type": "markdown",
      "metadata": {
        "id": "hgsDcofGNCo-"
      },
      "source": [
        "## Q3"
      ]
    },
    {
      "cell_type": "markdown",
      "metadata": {
        "id": "au5TUDWtNGks"
      },
      "source": [
        "\n",
        "\n",
        "**Display total amount of purchase for combinations of gender and age groups.**\n",
        "\n"
      ]
    },
    {
      "cell_type": "code",
      "metadata": {
        "id": "lz-1ytg3NUw8"
      },
      "source": [
        "df3 = df[['Gender', 'Age', 'Purchase']]\n",
        "# df[\"Gender\"] = df[\"Gender\"].map({'1': 'male', '0': 'female'})\n",
        "purchase_sum = df3.groupby(['Gender', 'Age']).sum()"
      ],
      "execution_count": null,
      "outputs": []
    },
    {
      "cell_type": "code",
      "metadata": {
        "colab": {
          "base_uri": "https://localhost:8080/",
          "height": 281
        },
        "id": "auuVEAuXlYLS",
        "outputId": "b1a32a3e-74a7-4b67-dec1-1e5b3c7392c6"
      },
      "source": [
        "# Line chart for comparing amount of purchase for combinations of gender and age groups\n",
        "\n",
        "female_data = purchase_sum.loc['0']\n",
        "male_data = purchase_sum.loc['1']\n",
        "x = female_data.index\n",
        "    # print(x)\n",
        "    # print(purchase_sum.loc['female'])\n",
        "plt.plot(x, female_data, label='female', color='red', marker='o')\n",
        "plt.plot(x, male_data, label='male', color='blue', marker='o')\n",
        "plt.title(\"Amount of purchase for combinations of gender and age groups\")\n",
        "plt.legend()\n",
        "plt.show()"
      ],
      "execution_count": null,
      "outputs": [
        {
          "output_type": "display_data",
          "data": {
            "image/png": "[encoded data removed]",
            "text/plain": [
              "<Figure size 432x288 with 1 Axes>"
            ]
          },
          "metadata": {
            "tags": [],
            "needs_background": "light"
          }
        }
      ]
    },
    {
      "cell_type": "code",
      "metadata": {
        "colab": {
          "base_uri": "https://localhost:8080/",
          "height": 316
        },
        "id": "83DZyoN1c1kq",
        "outputId": "36afdf4e-b9d0-4f7a-e22a-5da92b9e08f7"
      },
      "source": [
        "# Bar chart for comparing amount of purchase for combinations of gender and age groups\n",
        "\n",
        "purchase_sum.reset_index(inplace=True)\n",
        "\n",
        "purchase_sum.pivot(\"Gender\", \"Age\", \"Purchase\").plot(kind='bar')\n",
        "plt.xticks(np.arange(2), (\"Female\", \"Male\"))\n",
        "\n",
        "plt.show()"
      ],
      "execution_count": null,
      "outputs": [
        {
          "output_type": "display_data",
          "data": {
            "image/png": "[encoded data removed]",
            "text/plain": [
              "<Figure size 432x288 with 1 Axes>"
            ]
          },
          "metadata": {
            "tags": [],
            "needs_background": "light"
          }
        }
      ]
    },
    {
      "cell_type": "markdown",
      "metadata": {
        "id": "8FgMD0JldeSE"
      },
      "source": [
        "As shown in the bar chart and line chart, in both gender groups, the total amount of purchase for the 26 years old age group is much higher than other 6 age groups. More specifically, male customers in 26 years old age group have the highest amount of purchase than others, so if only consider the gender feature, male customers should be regarded as better target for marketing campaign, and if we consider both gender and age features, male customers in 26 years old age group should be regarded as better target for marketing campaign. "
      ]
    },
    {
      "cell_type": "markdown",
      "metadata": {
        "id": "Gtkebtg8Nfii"
      },
      "source": [
        "\n",
        "\n",
        "**Display distribution of purchase amount among Gender and age groups in boxplot**\n",
        "\n"
      ]
    },
    {
      "cell_type": "code",
      "metadata": {
        "colab": {
          "base_uri": "https://localhost:8080/",
          "height": 398
        },
        "id": "quXnTOt-13WW",
        "outputId": "3d3969ac-f163-47d9-8508-39e8704584d5"
      },
      "source": [
        "# Display distribution of purchase amount among Gender + age groups by using boxplot\n",
        "\n",
        "df5 = df3\n",
        "df5[\"Gender\"].replace({\"0\": \"Female\", \"1\": \"Male\"}, inplace=True)\n",
        "\n",
        "boxplot = sns.boxplot(y='Purchase', x='Age',data=df5,palette=\"colorblind\", hue='Gender')\n",
        "boxplot.legend(loc='center left', bbox_to_anchor=(1, 1), ncol=1)"
      ],
      "execution_count": null,
      "outputs": [
        {
          "output_type": "stream",
          "text": [
            "/usr/local/lib/python3.6/dist-packages/pandas/core/series.py:4582: SettingWithCopyWarning: \n",
            "A value is trying to be set on a copy of a slice from a DataFrame\n",
            "\n",
            "See the caveats in the documentation: https://pandas.pydata.org/pandas-docs/stable/user_guide/indexing.html#returning-a-view-versus-a-copy\n",
            "  method=method,\n"
          ],
          "name": "stderr"
        },
        {
          "output_type": "execute_result",
          "data": {
            "text/plain": [
              "<matplotlib.legend.Legend at 0x7f2f4e661048>"
            ]
          },
          "metadata": {
            "tags": []
          },
          "execution_count": 19
        },
        {
          "output_type": "display_data",
          "data": {
            "image/png": "[encoded data removed]",
            "text/plain": [
              "<Figure size 432x288 with 1 Axes>"
            ]
          },
          "metadata": {
            "tags": [],
            "needs_background": "light"
          }
        }
      ]
    },
    {
      "cell_type": "markdown",
      "metadata": {
        "id": "LXZ7zz2sNtks"
      },
      "source": [
        "\n",
        "Based on the box plots above, there are two main findings that we can read from the plot directly:\n",
        "1. Compared with the female's purchase amount, male had more purchase power. Therefore, gender is one of the factors that will influence the purchase amount. Male is better target for marketing campaign.\n",
        "2. Age is not the direct factor that will influence the purchase amount. What we can find from the box plot is that the purchase amount among different age group are relatively stable. They does not have too much difference.\n",
        "\n",
        "\n",
        "\n",
        "\n",
        "\n",
        "\n",
        "\n"
      ]
    },
    {
      "cell_type": "markdown",
      "metadata": {
        "id": "22jzPIUeNyWf"
      },
      "source": [
        "\n",
        "\n",
        "**Display distribution of purchase among Occupations**"
      ]
    },
    {
      "cell_type": "code",
      "metadata": {
        "id": "KqoQoZVvZkwb"
      },
      "source": [
        "df6 = df\n",
        "df6 = df6.drop([\"User_ID\",\"Product_ID\"], axis=1)"
      ],
      "execution_count": null,
      "outputs": []
    },
    {
      "cell_type": "code",
      "metadata": {
        "colab": {
          "base_uri": "https://localhost:8080/",
          "height": 435
        },
        "id": "0gCDzmwX336s",
        "outputId": "7c88b8b0-49ba-4fcb-e200-df231205e4fc"
      },
      "source": [
        "# Display distribution of purchase among first 10 Occupations \n",
        "\n",
        "df6['Occupation']=df6['Occupation'].astype('int64')\n",
        "df6_1 = df6[df6['Occupation'] <10]\n",
        "\n",
        "sns.set(rc={'figure.figsize':(15,5)})\n",
        "boxplot = sns.boxplot(y='Purchase', x='Occupation',data=df6_1,width=0.8, palette=\"colorblind\",\n",
        "                      hue='Occupation')\n",
        "boxplot.legend(loc='center left', bbox_to_anchor=(1, 1), ncol=1)"
      ],
      "execution_count": null,
      "outputs": [
        {
          "output_type": "execute_result",
          "data": {
            "text/plain": [
              "<matplotlib.legend.Legend at 0x7f2f4e6562b0>"
            ]
          },
          "metadata": {
            "tags": []
          },
          "execution_count": 21
        },
        {
          "output_type": "display_data",
          "data": {
            "image/png": "[encoded data removed]",
            "text/plain": [
              "<Figure size 1080x360 with 1 Axes>"
            ]
          },
          "metadata": {
            "tags": []
          }
        }
      ]
    },
    {
      "cell_type": "code",
      "metadata": {
        "colab": {
          "base_uri": "https://localhost:8080/",
          "height": 443
        },
        "id": "_616TJ26NADd",
        "outputId": "52e026cc-7fe1-4d05-e5be-0e9a2a38257e"
      },
      "source": [
        "# Display distribution of purchase among last 11 Occupations \n",
        "\n",
        "df6_2 = df6[df6['Occupation'] >=10]\n",
        "\n",
        "sns.set(rc={'figure.figsize':(15,5)})\n",
        "boxplot = sns.boxplot(y='Purchase', x='Occupation',data=df6_2,width=0.8, palette=\"colorblind\",\n",
        "                      hue='Occupation')\n",
        "boxplot.legend(loc='center left', bbox_to_anchor=(1, 1), ncol=1)"
      ],
      "execution_count": null,
      "outputs": [
        {
          "output_type": "execute_result",
          "data": {
            "text/plain": [
              "<matplotlib.legend.Legend at 0x7f2f4e661710>"
            ]
          },
          "metadata": {
            "tags": []
          },
          "execution_count": 22
        },
        {
          "output_type": "display_data",
          "data": {
            "image/png": "[encoded data removed]",
            "text/plain": [
              "<Figure size 1080x360 with 1 Axes>"
            ]
          },
          "metadata": {
            "tags": []
          }
        }
      ]
    },
    {
      "cell_type": "markdown",
      "metadata": {
        "id": "hN6mULl1XFrR"
      },
      "source": [
        "From the box and whisker plot above, we can find that occupation 4,5,7,8,11,12,14,15, and 17 have relative higher purchase amounts compared with the rest occupations. In other word, those occupations may have more purchasing power. They can be the main targets for marketing. "
      ]
    },
    {
      "cell_type": "markdown",
      "metadata": {
        "id": "Yrc-tpVvOA2p"
      },
      "source": [
        "**Heat map:**\n"
      ]
    },
    {
      "cell_type": "code",
      "metadata": {
        "id": "sRPfg6EjObHz"
      },
      "source": [
        " '''\n",
        " Remove the unnecessary columns such as User_ID and Product_ID that function as \n",
        " the primary key to distinguish each involved customer and product and are not\n",
        " relative to the prediction model we try to introduce \n",
        " '''\n",
        "\n",
        "df6 = df\n",
        "df6 = df6.drop([\"User_ID\",\"Product_ID\"], axis=1)"
      ],
      "execution_count": null,
      "outputs": []
    },
    {
      "cell_type": "markdown",
      "metadata": {
        "id": "KWtNCSfDikC4"
      },
      "source": [
        "Since we only focus the correlation between numerical features, the correlation matrix will only contain Age, Stay_In_Current_City_Years and Purchase these three columns. The rest of six columns are all nominal variables where no ordered relationship among each categorical value, and correlation matrix is not a proper measurement for them."
      ]
    },
    {
      "cell_type": "code",
      "metadata": {
        "colab": {
          "base_uri": "https://localhost:8080/",
          "height": 599
        },
        "id": "DmolfJuvc-wo",
        "outputId": "7be97558-76d5-4c02-ad33-5f81bf83dfad"
      },
      "source": [
        "# Display the heat map \n",
        "\n",
        "plt.rcParams['figure.figsize'] = (15.0, 10.0)   # Set the figure size\n",
        "cor = df6.corr()                                # Calculate the correlation matrix\n",
        "sns.heatmap(cor, annot=True, cmap=plt.cm.Reds)\n",
        "plt.show()"
      ],
      "execution_count": null,
      "outputs": [
        {
          "output_type": "display_data",
          "data": {
            "image/png": "[encoded data removed]",
            "text/plain": [
              "<Figure size 1080x720 with 2 Axes>"
            ]
          },
          "metadata": {
            "tags": []
          }
        }
      ]
    },
    {
      "cell_type": "code",
      "metadata": {
        "colab": {
          "base_uri": "https://localhost:8080/",
          "height": 142
        },
        "id": "KKHzX2-8bqYv",
        "outputId": "4cac815e-71dd-4ad5-9f38-42d57490652e"
      },
      "source": [
        "# Display the correlation matrix \n",
        "\n",
        "cor"
      ],
      "execution_count": null,
      "outputs": [
        {
          "output_type": "execute_result",
          "data": {
            "text/html": [
              "<div>\n",
              "<style scoped>\n",
              "    .dataframe tbody tr th:only-of-type {\n",
              "        vertical-align: middle;\n",
              "    }\n",
              "\n",
              "    .dataframe tbody tr th {\n",
              "        vertical-align: top;\n",
              "    }\n",
              "\n",
              "    .dataframe thead th {\n",
              "        text-align: right;\n",
              "    }\n",
              "</style>\n",
              "<table border=\"1\" class=\"dataframe\">\n",
              "  <thead>\n",
              "    <tr style=\"text-align: right;\">\n",
              "      <th></th>\n",
              "      <th>Age</th>\n",
              "      <th>Stay_In_Current_City_Years</th>\n",
              "      <th>Purchase</th>\n",
              "    </tr>\n",
              "  </thead>\n",
              "  <tbody>\n",
              "    <tr>\n",
              "      <th>Age</th>\n",
              "      <td>1.000000</td>\n",
              "      <td>-0.006913</td>\n",
              "      <td>0.012606</td>\n",
              "    </tr>\n",
              "    <tr>\n",
              "      <th>Stay_In_Current_City_Years</th>\n",
              "      <td>-0.006913</td>\n",
              "      <td>1.000000</td>\n",
              "      <td>0.005511</td>\n",
              "    </tr>\n",
              "    <tr>\n",
              "      <th>Purchase</th>\n",
              "      <td>0.012606</td>\n",
              "      <td>0.005511</td>\n",
              "      <td>1.000000</td>\n",
              "    </tr>\n",
              "  </tbody>\n",
              "</table>\n",
              "</div>"
            ],
            "text/plain": [
              "                                 Age  Stay_In_Current_City_Years  Purchase\n",
              "Age                         1.000000                   -0.006913  0.012606\n",
              "Stay_In_Current_City_Years -0.006913                    1.000000  0.005511\n",
              "Purchase                    0.012606                    0.005511  1.000000"
            ]
          },
          "metadata": {
            "tags": []
          },
          "execution_count": 25
        }
      ]
    },
    {
      "cell_type": "markdown",
      "metadata": {
        "id": "8-_-thpnfqPv"
      },
      "source": [
        "\n",
        "From the hearmap and correlation matrix output, we can find that the correlation between *Age* and *Purchase* is about 0.0126, that indicates there is a positive relationship and weak correlation between them, since value close to 1 or -1 will be considered as strong correlated. \n",
        "\n",
        "The correlation between *Stay_In_Current_City_Year* and *Purchase* is about -0.0069, that indicates there is a negative relationship and weak correlation between them, since value close to 1 or -1 will be considered as strong correlated. \n"
      ]
    },
    {
      "cell_type": "markdown",
      "metadata": {
        "id": "g54fswFNfsJs"
      },
      "source": [
        "# **Step 3. Data Modeling**"
      ]
    },
    {
      "cell_type": "markdown",
      "metadata": {
        "id": "4SBhziSOgJZp"
      },
      "source": [
        "**Feature Engineering**:\n",
        "\n",
        "1. For categorical columns,use dummy variable to turn categorical column into columns of binary values(one-hot encoded vector)\n"
      ]
    },
    {
      "cell_type": "code",
      "metadata": {
        "id": "aCTx9gXIiaxH"
      },
      "source": [
        "# One-hot encode to convert categorical columns into binary values\n",
        "# Categorical columns are Gender, Occupation, City_Category, Marital_Status, Product_Category_1, Product_Category_2\n",
        "\n",
        "new_df = df\n",
        "new_df = pd.get_dummies(data= new_df, columns=['Gender', 'Occupation',\n",
        "  'City_Category','Marital_Status','Product_Category_1',\"Product_Category_2\"])"
      ],
      "execution_count": null,
      "outputs": []
    },
    {
      "cell_type": "code",
      "metadata": {
        "id": "TJ7byHQJgM4V"
      },
      "source": [
        " '''\n",
        " Remove the unnecessary columns such as User_ID and Product_ID that function as \n",
        " the primary key to distinguish each involved customer and product and are not\n",
        " relative to the prediction model we try to introduce \n",
        " '''\n",
        "\n",
        " new_df =  new_df.drop([\"User_ID\",\"Product_ID\"], axis=1)"
      ],
      "execution_count": null,
      "outputs": []
    },
    {
      "cell_type": "markdown",
      "metadata": {
        "id": "2MPZDafNmmSq"
      },
      "source": [
        "2. Normalize all numerical columns using mean normalization.\n"
      ]
    },
    {
      "cell_type": "code",
      "metadata": {
        "id": "An27xnKLmnLa"
      },
      "source": [
        "norm_df = new_df"
      ],
      "execution_count": null,
      "outputs": []
    },
    {
      "cell_type": "code",
      "metadata": {
        "id": "KFRHPvozMDUw"
      },
      "source": [
        "# Only normalize numerical columns (Age, Stay_In_Current_City_Years) using mean normalization.\n",
        "# We don't apply normalization on depedent variable Purchase or categorical columns\n",
        "\n",
        "\n",
        "def mean_norm(data):\n",
        "  mean_age = data['Age'].mean(axis = 0)                           # Calculate the mean value for Age \n",
        "  mean_stay = data['Stay_In_Current_City_Years'].mean(axis = 0)   # Calculate the mean value for Stay_In_Current_City_Years\n",
        "  max_age = data['Age'].max(axis=0)                               # Calculate the max value for Age\n",
        "  max_stay = data['Stay_In_Current_City_Years'].max(axis=0)       # Calculate the max value for Stay_In_Current_City_Years\n",
        "  min_age = data['Age'].min(axis=0)                               # Calculate the min value for Age\n",
        "  min_stay = data['Stay_In_Current_City_Years'].min(axis=0)       # Calculate the min value for Stay_In_Current_City_Years\n",
        "\n",
        "# Use mean normalization \n",
        "  data['Age'] = (data['Age'] - mean_age)/(max_age - min_age)      \n",
        "  data['Stay_In_Current_City_Years'] = (data['Stay_In_Current_City_Years'] - mean_stay)/(max_stay - min_stay) \n",
        "  return data"
      ],
      "execution_count": null,
      "outputs": []
    },
    {
      "cell_type": "code",
      "metadata": {
        "id": "emlvcpKhQEAi"
      },
      "source": [
        "# Apply the normalization function\n",
        "\n",
        "norm_df = mean_norm(norm_df)"
      ],
      "execution_count": null,
      "outputs": []
    },
    {
      "cell_type": "markdown",
      "metadata": {
        "id": "yJZXIa0ueiEf"
      },
      "source": [
        "**Linear Regression Model:**\n",
        "\n",
        "1. Split the dataset into training and testing dataset(80:20  train:test ratio)\n"
      ]
    },
    {
      "cell_type": "code",
      "metadata": {
        "id": "b284Af2UZGxh"
      },
      "source": [
        "# Split dataframe into training and testing set\n",
        "\n",
        "from sklearn.model_selection import train_test_split\n",
        "\n",
        "X_train, X_test, y_train, y_test = train_test_split(new_df.drop('Purchase', \n",
        "                                      axis=1), new_df['Purchase'], test_size=0.20, random_state=0)"
      ],
      "execution_count": null,
      "outputs": []
    },
    {
      "cell_type": "markdown",
      "metadata": {
        "id": "-nPRxqIOmcUC"
      },
      "source": [
        "2. Create and fit a multivariant linear regression model to training set\n"
      ]
    },
    {
      "cell_type": "code",
      "metadata": {
        "colab": {
          "base_uri": "https://localhost:8080/"
        },
        "id": "lpJrIKNgpKNH",
        "outputId": "54db6c42-80cf-417b-b9c3-ffc872d0f8e3"
      },
      "source": [
        "from sklearn import linear_model\n",
        "\n",
        "\n",
        "model = linear_model.LinearRegression()\n",
        "model.fit(X_train, y_train)"
      ],
      "execution_count": null,
      "outputs": [
        {
          "output_type": "execute_result",
          "data": {
            "text/plain": [
              "LinearRegression(copy_X=True, fit_intercept=True, n_jobs=None, normalize=False)"
            ]
          },
          "metadata": {
            "tags": []
          },
          "execution_count": 32
        }
      ]
    },
    {
      "cell_type": "markdown",
      "metadata": {
        "id": "udywxWAOmeMc"
      },
      "source": [
        "3. Test the trained model over testing set, and calculate MAE and MSE\n",
        "\n"
      ]
    },
    {
      "cell_type": "code",
      "metadata": {
        "colab": {
          "base_uri": "https://localhost:8080/"
        },
        "id": "jujqbL2_fQgb",
        "outputId": "867118fb-b219-4ebe-8d00-361951e81fc8"
      },
      "source": [
        "from sklearn.metrics import mean_squared_error, mean_absolute_error\n",
        "\n",
        "y_pred = model.predict(X_test)\n",
        "\n",
        "# Calculate MAE of the regression model\n",
        "mae = mean_absolute_error(y_test, y_pred)\n",
        "\n",
        "# Calculate MSE of the regression model\n",
        "mse = mean_squared_error(y_test, y_pred)\n",
        "\n",
        "# Report MAE and MSE\n",
        "print('Mean squared error (MSE): {:.2f}'.format(mean_squared_error(y_test, y_pred)))\n",
        "print('Mean absolute error (MAE): {:.2f}'.format(mean_absolute_error(y_test, y_pred)))\n"
      ],
      "execution_count": null,
      "outputs": [
        {
          "output_type": "stream",
          "text": [
            "Mean squared error (MSE): 10381655.79\n",
            "Mean absolute error (MAE): 2462.91\n"
          ],
          "name": "stdout"
        }
      ]
    },
    {
      "cell_type": "markdown",
      "metadata": {
        "id": "PuP9yTkOZDt-"
      },
      "source": [
        "### At this moment, we do not know the MSE and MAE of the regression model we get here are the optimal result, so we try to apply the regression model over normalized data frame to find out whether we will get smaller value of MSE and MAE."
      ]
    },
    {
      "cell_type": "markdown",
      "metadata": {
        "id": "kSKHToUedH_Z"
      },
      "source": [
        "**Test the trained model over normalized data frame**"
      ]
    },
    {
      "cell_type": "code",
      "metadata": {
        "id": "l9j91nZjdGBt"
      },
      "source": [
        "# norm_df is the normalized data frame we get in Q1, second step.\n",
        "\n",
        "from sklearn.model_selection import train_test_split\n",
        "\n",
        "X_normtrain, X_normtest, y_normtrain, y_normtest = train_test_split(norm_df.drop('Purchase', \n",
        "                                      axis=1), norm_df['Purchase'], test_size=0.20, random_state=0)"
      ],
      "execution_count": null,
      "outputs": []
    },
    {
      "cell_type": "code",
      "metadata": {
        "colab": {
          "base_uri": "https://localhost:8080/"
        },
        "id": "iFnpUKS1daL2",
        "outputId": "d6a0254e-08a5-4d88-a2d0-4873dfa35d91"
      },
      "source": [
        "from sklearn import linear_model\n",
        "\n",
        "model_norm = linear_model.LinearRegression()\n",
        "model_norm.fit(X_normtrain, y_normtrain)"
      ],
      "execution_count": null,
      "outputs": [
        {
          "output_type": "execute_result",
          "data": {
            "text/plain": [
              "LinearRegression(copy_X=True, fit_intercept=True, n_jobs=None, normalize=False)"
            ]
          },
          "metadata": {
            "tags": []
          },
          "execution_count": 35
        }
      ]
    },
    {
      "cell_type": "code",
      "metadata": {
        "colab": {
          "base_uri": "https://localhost:8080/"
        },
        "id": "HD5evmKtdfzU",
        "outputId": "0fe19edf-2d05-4047-9ab7-6010b7c84480"
      },
      "source": [
        "from sklearn.metrics import mean_squared_error, mean_absolute_error\n",
        "\n",
        "y_normpred = model_norm.predict(X_normtest)\n",
        "\n",
        "# Calculate MAE of the regression model\n",
        "mae = mean_absolute_error(y_normtest, y_normpred)\n",
        "\n",
        "# Calculate MSE of the regression model\n",
        "mse = mean_squared_error(y_normtest, y_normpred)\n",
        "\n",
        "print('Mean squared error (MSE): {:.2f}'.format(mean_squared_error(y_test, y_pred)))\n",
        "print('Mean absolute error (MAE): {:.2f}'.format(mean_absolute_error(y_test, y_pred)))"
      ],
      "execution_count": null,
      "outputs": [
        {
          "output_type": "stream",
          "text": [
            "Mean squared error (MSE): 10381655.79\n",
            "Mean absolute error (MAE): 2462.91\n"
          ],
          "name": "stdout"
        }
      ]
    },
    {
      "cell_type": "markdown",
      "metadata": {
        "id": "v-W-lSAiabSO"
      },
      "source": [
        "### Compare with the previous trained model, the value of MSE and MAE hold the same. So at this moment, the normalized data actually does not influence the prediction model performance. Now we will perform feature selection to find the most important features to the prediction model and discovery whether we will have a better trained model. "
      ]
    },
    {
      "cell_type": "markdown",
      "metadata": {
        "id": "FTZW--bbv9H7"
      },
      "source": [
        "**Feature Selection__Recursive Feature Elimination**"
      ]
    },
    {
      "cell_type": "code",
      "metadata": {
        "id": "rz0U4ePEHZwL"
      },
      "source": [
        "feature_df = df\n",
        "feature_df =  feature_df.drop([\"User_ID\",\"Product_ID\"], axis=1)"
      ],
      "execution_count": null,
      "outputs": []
    },
    {
      "cell_type": "code",
      "metadata": {
        "id": "hE7bjkLAQ0W0"
      },
      "source": [
        "# Split dataframe into training and testing set\n",
        "\n",
        "from sklearn.model_selection import train_test_split\n",
        "\n",
        "X_train, X_test, y_train, y_test = train_test_split(feature_df.drop('Purchase', \n",
        "                                      axis=1), feature_df['Purchase'], test_size=0.20, random_state=0)"
      ],
      "execution_count": null,
      "outputs": []
    },
    {
      "cell_type": "code",
      "metadata": {
        "id": "JbS_f270v8yk"
      },
      "source": [
        "# Perform recursive feature elimination for the regression model to find most important features\n",
        "\n",
        "\n",
        "from sklearn.feature_selection import RFE\n",
        "\n",
        "\n",
        "fea_reg = linear_model.LinearRegression()\n",
        "\n",
        "\n",
        "rfe_model = RFE(fea_reg, 7, step=1) \n",
        "rfe=rfe_model.fit(X_train,y_train) \n"
      ],
      "execution_count": null,
      "outputs": []
    },
    {
      "cell_type": "code",
      "metadata": {
        "colab": {
          "base_uri": "https://localhost:8080/"
        },
        "id": "L9Z9m-ZXR_AB",
        "outputId": "8877201d-8c5f-4f33-8fd8-1dd198dfd9e9"
      },
      "source": [
        "print(rfe.support_)\n",
        "print(rfe.ranking_)     # Get the position of the best 7 features"
      ],
      "execution_count": null,
      "outputs": [
        {
          "output_type": "stream",
          "text": [
            "[ True  True False  True  True  True  True  True]\n",
            "[1 1 2 1 1 1 1 1]\n"
          ],
          "name": "stdout"
        }
      ]
    },
    {
      "cell_type": "markdown",
      "metadata": {
        "id": "16N2Er1qWoTk"
      },
      "source": [
        "The best 7 features for the regression model to predict Purchase are:\n",
        "\n",
        "Gender, Age, City_Category, Stay_In_Current_City_Years, Marital_Status, Product_Category_1, Product_Category_2"
      ]
    },
    {
      "cell_type": "code",
      "metadata": {
        "id": "6CSyMaaCYEiA"
      },
      "source": [
        "# Drop the Occupation column\n",
        "# Turn categorical columns into columns of binary values\n",
        "\n",
        "feature_df =  feature_df.drop([\"Occupation\"], axis=1)\n",
        "\n",
        "feature_df = pd.get_dummies(data= feature_df, columns=['Gender', 'City_Category',\n",
        "                    'Marital_Status','Product_Category_1',\"Product_Category_2\"])"
      ],
      "execution_count": null,
      "outputs": []
    },
    {
      "cell_type": "code",
      "metadata": {
        "id": "pxDF2k9rYct4"
      },
      "source": [
        "from sklearn.model_selection import train_test_split\n",
        "\n",
        "X_featrain, X_featest, y_featrain, y_featest = train_test_split(feature_df.drop('Purchase', \n",
        "                                      axis=1), feature_df['Purchase'], test_size=0.20, random_state=0)"
      ],
      "execution_count": null,
      "outputs": []
    },
    {
      "cell_type": "code",
      "metadata": {
        "colab": {
          "base_uri": "https://localhost:8080/"
        },
        "id": "e5jVmd3hYYp9",
        "outputId": "002cc7e3-4fc7-43d5-bf8a-72d8d0b9a786"
      },
      "source": [
        "from sklearn import linear_model\n",
        "\n",
        "model_fea = linear_model.LinearRegression()\n",
        "model_fea.fit(X_featrain, y_featrain)"
      ],
      "execution_count": null,
      "outputs": [
        {
          "output_type": "execute_result",
          "data": {
            "text/plain": [
              "LinearRegression(copy_X=True, fit_intercept=True, n_jobs=None, normalize=False)"
            ]
          },
          "metadata": {
            "tags": []
          },
          "execution_count": 43
        }
      ]
    },
    {
      "cell_type": "code",
      "metadata": {
        "colab": {
          "base_uri": "https://localhost:8080/"
        },
        "id": "r8nRE6VUYgZH",
        "outputId": "4165dfe6-cc27-4c19-aeee-9e5e5a4d502d"
      },
      "source": [
        "from sklearn.metrics import mean_squared_error, mean_absolute_error\n",
        "\n",
        "y_feapred = model_fea.predict(X_featest)\n",
        "\n",
        "# Calculate MAE of the regression model\n",
        "mae = mean_absolute_error(y_featest, y_feapred)\n",
        "\n",
        "# Calculate MSE of the regression model\n",
        "mse = mean_squared_error(y_featest, y_feapred)\n",
        "\n",
        "print('Mean squared error (MSE): {:.2f}'.format(mean_squared_error(y_featest, y_feapred)))\n",
        "print('Mean absolute error (MAE): {:.2f}'.format(mean_absolute_error(y_featest, y_feapred)))"
      ],
      "execution_count": null,
      "outputs": [
        {
          "output_type": "stream",
          "text": [
            "Mean squared error (MSE): 10397994.46\n",
            "Mean absolute error (MAE): 2465.31\n"
          ],
          "name": "stdout"
        }
      ]
    },
    {
      "cell_type": "markdown",
      "metadata": {
        "id": "GQQEwGWPf1am"
      },
      "source": [
        "After three trials, we get the best outcome of the trained model when we apply the regression model over the original dataframe(not drop Occupation column) and normalization will not influence the performance of the regression model. So we will apply the first trained model with normalized dataframe on Black_Final_Test.csv"
      ]
    },
    {
      "cell_type": "markdown",
      "metadata": {
        "id": "6y4P5zryfT-n"
      },
      "source": [
        "**Final Model Evaluation:**\n",
        "\n",
        "1. Load Black_Friday_Final_Test.csv, and apply the trained regression model from Q2\n"
      ]
    },
    {
      "cell_type": "code",
      "metadata": {
        "id": "3lY10R3Rha-Z"
      },
      "source": [
        "test_dataframe = pd.read_csv(\"Black_Friday_Final_Test.csv\")\n"
      ],
      "execution_count": null,
      "outputs": []
    },
    {
      "cell_type": "code",
      "metadata": {
        "id": "A4AcQ6R8hmic"
      },
      "source": [
        " '''\n",
        " Remove the unnecessary columns such as User_ID and Product_ID that function as \n",
        " the primary key to distinguish each involved customer and product and are not\n",
        " relative to the prediction model we try to introduce \n",
        " '''\n",
        "from sklearn.preprocessing import OneHotEncoder\n",
        "\n",
        "# Apply cleaning function, feature engineering and normalization to the test dataframe\n",
        "test_df = clean_data(test_dataframe)\n",
        "test_df =  test_df.drop([\"User_ID\",\"Product_ID\"], axis=1)\n",
        "test_df = mean_norm(test_df)\n",
        "test_df = pd.get_dummies(data= test_df, columns=['Gender', 'Occupation',\n",
        "  'City_Category','Marital_Status','Product_Category_1',\"Product_Category_2\"])"
      ],
      "execution_count": null,
      "outputs": []
    },
    {
      "cell_type": "markdown",
      "metadata": {
        "id": "3MpWWPlvhvM_"
      },
      "source": [
        "2. Calculate and report MAE and MSE"
      ]
    },
    {
      "cell_type": "code",
      "metadata": {
        "id": "oLUlRNI_hsza"
      },
      "source": [
        "from sklearn.model_selection import train_test_split\n",
        "\n",
        "X_train, X_test, y_train, y_test = train_test_split(test_df.drop('Purchase', \n",
        "                                      axis=1), test_df['Purchase'], test_size=0.20, random_state=0)"
      ],
      "execution_count": null,
      "outputs": []
    },
    {
      "cell_type": "code",
      "metadata": {
        "colab": {
          "base_uri": "https://localhost:8080/"
        },
        "id": "mWxadJcXh571",
        "outputId": "494d404b-f33e-4ba5-9d2b-d041df442792"
      },
      "source": [
        "from sklearn import linear_model\n",
        "model = linear_model.LinearRegression()\n",
        "model.fit(X_train, y_train)\n"
      ],
      "execution_count": null,
      "outputs": [
        {
          "output_type": "execute_result",
          "data": {
            "text/plain": [
              "LinearRegression(copy_X=True, fit_intercept=True, n_jobs=None, normalize=False)"
            ]
          },
          "metadata": {
            "tags": []
          },
          "execution_count": 49
        }
      ]
    },
    {
      "cell_type": "code",
      "metadata": {
        "colab": {
          "base_uri": "https://localhost:8080/"
        },
        "id": "6SZyc1BSiM2a",
        "outputId": "4e71a3de-5056-4b85-d880-18fde489949d"
      },
      "source": [
        "from sklearn.metrics import mean_squared_error, mean_absolute_error\n",
        "\n",
        "y_pred = model.predict(X_test)\n",
        "\n",
        "# Calculate MAE of the regression model\n",
        "mae = mean_absolute_error(y_test, y_pred)\n",
        "\n",
        "# Calculate MSE of the regression model\n",
        "mse = mean_squared_error(y_test, y_pred)\n",
        "\n",
        "print('Mean squared error (MSE): {:.2f}'.format(mean_squared_error(y_test, y_pred)))\n",
        "print('Mean absolute error (MAE): {:.2f}'.format(mean_absolute_error(y_test, y_pred)))"
      ],
      "execution_count": null,
      "outputs": [
        {
          "output_type": "stream",
          "text": [
            "Mean squared error (MSE): 10250242.74\n",
            "Mean absolute error (MAE): 2451.59\n"
          ],
          "name": "stdout"
        }
      ]
    },
    {
      "cell_type": "markdown",
      "metadata": {
        "id": "3WmbpDzssU2C"
      },
      "source": [
        "From the output above, the performance measurements(MSE & MAE) of the regression model are 10250242.74 and 2451.59 respectively."
      ]
    }
  ]
}